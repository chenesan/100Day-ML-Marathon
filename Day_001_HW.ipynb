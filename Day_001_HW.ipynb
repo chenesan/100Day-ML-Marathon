{
 "cells": [
  {
   "cell_type": "markdown",
   "metadata": {},
   "source": [
    "## 練習時間\n",
    "#### 請寫一個函式用來計算 Mean Square Error\n",
    "$ MSE = \\frac{1}{n}\\sum_{i=1}^{n}{(Y_i - \\hat{Y}_i)^2} $\n",
    "\n",
    "### Hint: [如何取平方](https://googoodesign.gitbooks.io/-ezpython/unit-1.html)"
   ]
  },
  {
   "cell_type": "markdown",
   "metadata": {},
   "source": [
    "# [作業目標]\n",
    "- 仿造範例的MAE函數, 自己寫一個MSE函數(參考上面公式)"
   ]
  },
  {
   "cell_type": "markdown",
   "metadata": {},
   "source": [
    "# [作業重點]\n",
    "- 注意程式的縮排\n",
    "- 是否能將數學公式, 轉換為 Python 的函式組合? (In[2], Out[2])"
   ]
  },
  {
   "cell_type": "code",
   "execution_count": 1,
   "metadata": {},
   "outputs": [
    {
     "name": "stderr",
     "output_type": "stream",
     "text": [
      "Matplotlib is building the font cache using fc-list. This may take a moment.\n"
     ]
    }
   ],
   "source": [
    "# 載入基礎套件與代稱\n",
    "import numpy as np\n",
    "import matplotlib.pyplot as plt"
   ]
  },
  {
   "cell_type": "code",
   "execution_count": 2,
   "metadata": {},
   "outputs": [],
   "source": [
    "def mean_absolute_error(y, yp):\n",
    "    \"\"\"\n",
    "    計算 MAE\n",
    "    Args:\n",
    "        - y: 實際值\n",
    "        - yp: 預測值\n",
    "    Return:\n",
    "        - mae: MAE\n",
    "    \"\"\"\n",
    "    mae = MAE = sum(abs(y - yp)) / len(y)\n",
    "    return mae\n",
    "\n",
    "# 定義 mean_squared_error 這個函數, 計算並傳回 MSE\n",
    "def mean_squared_error(y, yp):\n",
    "    \"\"\"\n",
    "    請完成這個 Function 後往下執行\n",
    "    \"\"\"\n",
    "    return sum(pow(y - yp, 2)) / len(y)"
   ]
  },
  {
   "cell_type": "code",
   "execution_count": 3,
   "metadata": {},
   "outputs": [
    {
     "data": {
      "image/png": "[encoded data removed]",
      "text/plain": [
       "<Figure size 432x288 with 1 Axes>"
      ]
     },
     "metadata": {
      "needs_background": "light"
     },
     "output_type": "display_data"
    }
   ],
   "source": [
    "# 與範例相同, 不另外解說\n",
    "w = 3\n",
    "b = 0.5\n",
    "x_lin = np.linspace(0, 100, 101)\n",
    "y = (x_lin + np.random.randn(101) * 5) * w + b\n",
    "\n",
    "plt.plot(x_lin, y, 'b.', label = 'data points')\n",
    "plt.title(\"Assume we have data points\")\n",
    "plt.legend(loc = 2)\n",
    "plt.show()"
   ]
  },
  {
   "cell_type": "code",
   "execution_count": 4,
   "metadata": {},
   "outputs": [
    {
     "data": {
      "image/png": "[encoded data removed]",
      "text/plain": [
       "<Figure size 432x288 with 1 Axes>"
      ]
     },
     "metadata": {
      "needs_background": "light"
     },
     "output_type": "display_data"
    }
   ],
   "source": [
    "# 與範例相同, 不另外解說\n",
    "y_hat = x_lin * w + b\n",
    "plt.plot(x_lin, y, 'b.', label = 'data')\n",
    "plt.plot(x_lin, y_hat, 'r-', label = 'prediction')\n",
    "plt.title(\"Assume we have data points (And the prediction)\")\n",
    "plt.legend(loc = 2)\n",
    "plt.show()"
   ]
  },
  {
   "cell_type": "code",
   "execution_count": 5,
   "metadata": {},
   "outputs": [
    {
     "name": "stdout",
     "output_type": "stream",
     "text": [
      "The Mean squared error is 280.137\n",
      "The Mean absolute error is 14.348\n"
     ]
    }
   ],
   "source": [
    "# 執行 Function, 確認有沒有正常執行\n",
    "MSE = mean_squared_error(y, y_hat)\n",
    "MAE = mean_absolute_error(y, y_hat)\n",
    "print(\"The Mean squared error is %.3f\" % (MSE))\n",
    "print(\"The Mean absolute error is %.3f\" % (MAE))"
   ]
  },
  {
   "cell_type": "markdown",
   "metadata": {},
   "source": [
    "# [作業2]\n",
    "\n",
    "請上 Kaggle, 在 Competitions 或 Dataset 中找一組競賽或資料並寫下：\n",
    "\n",
    "1. 你選的這組資料為何重要\n",
    "\n",
    "我選擇了 https://www.kaggle.com/c/ieee-fraud-detection/overview 這組競賽的資料。這些資料能夠幫助交易支付商辨識可能的非本人的交易。\n",
    "\n",
    "2. 資料從何而來 (tips: 譬如提供者是誰、以什麼方式蒐集)\n",
    "\n",
    "資料來自Vesta這家支付商公司實際交易的資料。\n",
    "\n",
    "3. 蒐集而來的資料型態為何\n",
    "\n",
    "由於資料涉及個人隱私，許多資料的欄位名稱都被去掉了，直接用英文加數字代替。\n",
    "\n",
    "* TransactionDT: 距離某個特定時間點的時間差\n",
    "* TransactionAMT: 交易金額(美元)\n",
    "* ProductCD: 商品代碼\n",
    "* card1 - card6: 交易卡片的資訊如卡片種類、型別、銀行、國家\n",
    "* addr: 地區\n",
    "* dist: 距離\n",
    "* P_ and (R__) emaildomain: 買家和賣家的email domain\n",
    "* C1-C14: 一些累積的數字，因涉及隱私被去掉欄位名稱。\n",
    "* D1-D15: 一些時間差欄位例如距離上次交易的時間，因涉及隱私被去掉欄位名稱\n",
    "* M1-M9: 一些資料是否吻合的欄位，例如卡片上的姓名、地址等等。\n",
    "* Vxxx: Vesta 所產生的大量特性，包含排名、計數及其它關係\n",
    "* DeviceType: 交易使用的裝置類別\n",
    "* DeviceInfo: 裝置資訊\n",
    "* id12 - id38: 一些身分的資料。\n",
    "* isFraud: 是否為詐騙交易。\n",
    "\n",
    "4. 這組資料想解決的問題如何評估\n",
    "\n",
    "如果訓練出來的模型能有效抓出詐騙交易，則應該在測試資料集上能夠正確分類出是否為詐騙交易。\n",
    "如果要應用到真實世界中，則：\n",
    "* 詐騙交易案件數量應該會變多(比較容易被抓到)\n",
    "* 有關信用卡/現金卡被盜用的客訴應該會變少。\n",
    "\n",
    "\n",
    "# [作業3]\n",
    "\n",
    "想像你經營一個自由載客車隊，你希望能透過數據分析以提升業績，請你思考並描述你如何規劃整體的分析/解決方案：\n",
    "\n",
    "1. 核心問題為何 (tips：如何定義 「提升業績 & 你的假設」)\n",
    "讓車隊載客的總哩程數增加。\n",
    "\n",
    "2. 資料從何而來 (tips：哪些資料可能會對你想問的問題產生影響 & 資料如何蒐集)\n",
    "* 每輛車開的哩程數\n",
    "* 每輛車開車的時間、停止開車的時間\n",
    "* 每輛車載客的區域\n",
    "* 司機的年齡\n",
    "* 車種\n",
    "以上資料應該都可以從每一台車的計費器和司機口中收集來。\n",
    "\n",
    "3. 蒐集而來的資料型態為何\n",
    "\n",
    "* 每輛車開的哩程數 => 數字\n",
    "* 每輛車開車的時間、停止開車的時間 => 時間差\n",
    "* 每輛車載客的區域 => 字串或座標\n",
    "* 司機的年齡 => 數字\n",
    "* 車種 => 字串\n",
    "\n",
    "4. 你要回答的問題，其如何評估 (tips：你的假設如何驗證)\n",
    "\n",
    "如果可以找到影響總哩程數的因素，則改變該因素應該會讓未來的總哩程數增加。"
   ]
  }
 ],
 "metadata": {
  "anaconda-cloud": {},
  "kernelspec": {
   "display_name": "Python 3",
   "language": "python",
   "name": "python3"
  },
  "language_info": {
   "codemirror_mode": {
    "name": "ipython",
    "version": 3
   },
   "file_extension": ".py",
   "mimetype": "text/x-python",
   "name": "python",
   "nbconvert_exporter": "python",
   "pygments_lexer": "ipython3",
   "version": "3.7.2"
  }
 },
 "nbformat": 4,
 "nbformat_minor": 1
}
